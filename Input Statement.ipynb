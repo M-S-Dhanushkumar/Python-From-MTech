{
 "cells": [
  {
   "cell_type": "markdown",
   "id": "0cc5ca18-7f06-4f24-b243-805ce16861fb",
   "metadata": {},
   "source": [
    "## Input Statement"
   ]
  },
  {
   "cell_type": "code",
   "execution_count": 5,
   "id": "45017df3-66ea-442a-80ba-26fef1fbfb46",
   "metadata": {},
   "outputs": [
    {
     "name": "stdin",
     "output_type": "stream",
     "text": [
      "Enter your name: vijay\n"
     ]
    },
    {
     "name": "stdout",
     "output_type": "stream",
     "text": [
      "vijay, Hello!\n"
     ]
    }
   ],
   "source": [
    "name = input(\"Enter your name:\")\n",
    "print(f\"{name}, Hello!\")"
   ]
  },
  {
   "cell_type": "code",
   "execution_count": 15,
   "id": "16bbaf5d-e965-497d-9c4d-e1ce355f25e2",
   "metadata": {},
   "outputs": [
    {
     "name": "stdin",
     "output_type": "stream",
     "text": [
      "Enter your name: vijay\n",
      "Enter your age: 28\n",
      "Enter your height in feet 5.7\n"
     ]
    },
    {
     "name": "stdout",
     "output_type": "stream",
     "text": [
      "vijay of vijay is 28 and his height is 5.7\n"
     ]
    }
   ],
   "source": [
    "name = input(\"Enter your name:\")\n",
    "age = int(input(\"Enter your age:\"))\n",
    "height = float(input('Enter your height in feet'))\n",
    "print(name, 'of vijay is', age, 'and his height is', height)"
   ]
  },
  {
   "cell_type": "code",
   "execution_count": 19,
   "id": "a7163538-917e-4536-a637-7af440caae69",
   "metadata": {},
   "outputs": [
    {
     "name": "stdin",
     "output_type": "stream",
     "text": [
      "Enter multiple input number 1 2\n"
     ]
    },
    {
     "name": "stdout",
     "output_type": "stream",
     "text": [
      "Sum: 3\n"
     ]
    }
   ],
   "source": [
    "x,y = input(\"Enter multiple input number\").split()\n",
    "x = int(x)\n",
    "y = int(y)\n",
    "print('Sum:' , x+y)"
   ]
  },
  {
   "cell_type": "code",
   "execution_count": null,
   "id": "b296477c-1b11-4030-8f55-b7c726313130",
   "metadata": {},
   "outputs": [],
   "source": []
  }
 ],
 "metadata": {
  "kernelspec": {
   "display_name": "Python [conda env:base] *",
   "language": "python",
   "name": "conda-base-py"
  },
  "language_info": {
   "codemirror_mode": {
    "name": "ipython",
    "version": 3
   },
   "file_extension": ".py",
   "mimetype": "text/x-python",
   "name": "python",
   "nbconvert_exporter": "python",
   "pygments_lexer": "ipython3",
   "version": "3.12.7"
  }
 },
 "nbformat": 4,
 "nbformat_minor": 5
}

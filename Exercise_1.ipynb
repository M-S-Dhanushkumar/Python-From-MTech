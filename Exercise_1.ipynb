{
 "cells": [
  {
   "cell_type": "code",
   "execution_count": 19,
   "id": "cd5a2a81-6da2-42f1-9fc7-1fe3c63fa7b0",
   "metadata": {},
   "outputs": [
    {
     "name": "stdout",
     "output_type": "stream",
     "text": [
      "Value: 34, Type: <class 'int'>\n",
      "Value: 30, Type: <class 'int'>\n",
      "Value: Tamil, Type: <class 'str'>\n",
      "Value: True, Type: <class 'bool'>\n"
     ]
    }
   ],
   "source": [
    "age = 34\n",
    "price = 30\n",
    "name = \"Tamil\"\n",
    "is_student = True\n",
    "\n",
    "print(f\"Value: {age}, Type: {type(age)}\")\n",
    "print(f\"Value: {price}, Type: {type(price)}\")\n",
    "print(f\"Value: {name}, Type: {type(name)}\")\n",
    "print(f\"Value: {is_student}, Type: {type(is_student)}\")"
   ]
  },
  {
   "cell_type": "code",
   "execution_count": 17,
   "id": "84313c56-b7b1-418a-ac74-369925517633",
   "metadata": {},
   "outputs": [
    {
     "name": "stdin",
     "output_type": "stream",
     "text": [
      "Enter the number 22\n",
      "Enter the decimal 1.3\n"
     ]
    },
    {
     "name": "stdout",
     "output_type": "stream",
     "text": [
      "23.3, 28.6, 16.923076923076923\n"
     ]
    }
   ],
   "source": [
    "a = int(input(\"Enter the number\"))\n",
    "b = float(input(\"Enter the decimal\"))\n",
    "sum = a+b\n",
    "Multiple = a*b\n",
    "Divide = a/b\n",
    "print(f\"{sum}, {Multiple}, {Divide}\")"
   ]
  },
  {
   "cell_type": "code",
   "execution_count": 25,
   "id": "72652071-8000-4e46-ac1a-242081ae7843",
   "metadata": {},
   "outputs": [
    {
     "name": "stdin",
     "output_type": "stream",
     "text": [
      "Enter your favourite programming language python\n",
      "Enter your level of experience (Beginner, intermediate) Beginner\n"
     ]
    },
    {
     "name": "stdout",
     "output_type": "stream",
     "text": [
      "You are a python in Beginner\n"
     ]
    }
   ],
   "source": [
    "Language = input(\"Enter your favourite programming language\")\n",
    "Experience = input('Enter your level of experience (Beginner, intermediate)')\n",
    "print(f\"You are a {Language} in {Experience}\")"
   ]
  },
  {
   "cell_type": "code",
   "execution_count": 29,
   "id": "101d43ec-e4d9-412f-8907-418edb233dae",
   "metadata": {},
   "outputs": [
    {
     "name": "stdin",
     "output_type": "stream",
     "text": [
      "Enter a number 12\n"
     ]
    },
    {
     "name": "stdout",
     "output_type": "stream",
     "text": [
      "First input: 12, Convert to int: 12 , <class 'int'>, Convert to float: 12.0,<class 'float'>\n"
     ]
    }
   ],
   "source": [
    "x = input(\"Enter a number\")\n",
    "y = int(x)\n",
    "z = float(y)\n",
    "print(f'First input: {x}, Convert to int: {y} , {type(y)}, Convert to float: {z},{type(z)}')"
   ]
  },
  {
   "cell_type": "code",
   "execution_count": 33,
   "id": "c81723e2-ed58-4159-9fd2-ee6a20fab7c5",
   "metadata": {},
   "outputs": [
    {
     "name": "stdin",
     "output_type": "stream",
     "text": [
      "Enter your name:  Dhanush\n"
     ]
    },
    {
     "name": "stdout",
     "output_type": "stream",
     "text": [
      "Hello, Dhanush! Welcome to Python programming.\n"
     ]
    }
   ],
   "source": [
    "user= input(\"Enter your name: \")\n",
    "print(f'Hello, {user}! Welcome to Python programming.')"
   ]
  },
  {
   "cell_type": "code",
   "execution_count": 1,
   "id": "0ebfd955-ea81-445c-b407-cc4dcc01ffc0",
   "metadata": {},
   "outputs": [
    {
     "name": "stdin",
     "output_type": "stream",
     "text": [
      "Enter the three numbers seperated by spaces:  1 10 20\n"
     ]
    },
    {
     "name": "stdout",
     "output_type": "stream",
     "text": [
      "The average is: 10.33\n"
     ]
    }
   ],
   "source": [
    "input_line = input(\"Enter the three numbers seperated by spaces: \")\n",
    "number_strings = input_line.split()\n",
    "num1 = int(number_strings[0])\n",
    "num2 = int(number_strings[1])\n",
    "num3 = int(number_strings[2])\n",
    "\n",
    "avg = (num1+num2+num3)/3\n",
    "print(f\"The average is: {avg:.2f}\")"
   ]
  },
  {
   "cell_type": "code",
   "execution_count": 5,
   "id": "846620c5-4c41-47e9-9f37-e5b82bf28f41",
   "metadata": {},
   "outputs": [
    {
     "name": "stdin",
     "output_type": "stream",
     "text": [
      "Enter an integer:  123\n"
     ]
    },
    {
     "name": "stdout",
     "output_type": "stream",
     "text": [
      "successfully converted the input 123\n"
     ]
    }
   ],
   "source": [
    "user_input = input(\"Enter an integer: \")\n",
    "\n",
    "try:\n",
    "    number = int(user_input)\n",
    "    print(f\"successfully converted the input {number}\")\n",
    "except ValueError:\n",
    "    print(\"Could not convert!\")"
   ]
  },
  {
   "cell_type": "code",
   "execution_count": 15,
   "id": "72979be4-4fa7-45cd-82c9-09bba342777f",
   "metadata": {},
   "outputs": [
    {
     "name": "stdin",
     "output_type": "stream",
     "text": [
      "Enter Height in meters:  1.82\n",
      "Enter Weight in kilograms:  62.3\n"
     ]
    },
    {
     "name": "stdout",
     "output_type": "stream",
     "text": [
      "Your BMI: 18.81\n"
     ]
    }
   ],
   "source": [
    "try:\n",
    "    height = float(input(\"Enter Height in meters: \"))\n",
    "    weight = float(input(\"Enter Weight in kilograms: \"))\n",
    "\n",
    "    bmi = weight/(height**2)\n",
    "    print(f\"Your BMI: {bmi:.2f}\")\n",
    "\n",
    "except ValueError:\n",
    "    print(\"Error: Please enter number values only.\")\n",
    "except ZeroDivisionError:\n",
    "    print(\"Error: Height cannot be zero\")\n",
    "    "
   ]
  },
  {
   "cell_type": "code",
   "execution_count": 9,
   "id": "5f681282-168e-40da-82bc-bc30ec802737",
   "metadata": {},
   "outputs": [
    {
     "name": "stdout",
     "output_type": "stream",
     "text": [
      "elephant, second: tiger\n"
     ]
    }
   ],
   "source": [
    "list = [\"tiger\",\"lion\",\"zebra\",\"elephant\",\"horse\"]\n",
    "print(f\"{list[3]}, second: {list[0]}\")"
   ]
  },
  {
   "cell_type": "code",
   "execution_count": 11,
   "id": "7f8d5224-ea78-480d-921b-2fca0550edfb",
   "metadata": {},
   "outputs": [
    {
     "name": "stdout",
     "output_type": "stream",
     "text": [
      "canada\n"
     ]
    }
   ],
   "source": [
    "contries = (\"india\", \"japan\", \"canada\")\n",
    "print(contries[2])"
   ]
  },
  {
   "cell_type": "code",
   "execution_count": 51,
   "id": "74f3605e-7336-4205-ab52-becf79dbb337",
   "metadata": {},
   "outputs": [
    {
     "name": "stdout",
     "output_type": "stream",
     "text": [
      "M\n",
      "p\n",
      "trop\n"
     ]
    }
   ],
   "source": [
    "city = \"Metropolis\"\n",
    "print(city[0])\n",
    "print(city[5])\n",
    "print(city[2:6])"
   ]
  },
  {
   "cell_type": "code",
   "execution_count": 53,
   "id": "c78e4a12-957e-468d-8ad4-d5bf88d7ee6d",
   "metadata": {},
   "outputs": [
    {
     "name": "stdout",
     "output_type": "stream",
     "text": [
      "Final tuple: (10, 20, 30, 40)\n"
     ]
    }
   ],
   "source": [
    "original_tuple = (10, 20, 30)\n",
    "temp_list = list(original_tuple)\n",
    "temp_list.append(40)\n",
    "final_tuple = tuple(temp_list)\n",
    "\n",
    "print(\"Final tuple:\", final_tuple)\n"
   ]
  }
 ],
 "metadata": {
  "kernelspec": {
   "display_name": "Python [conda env:base] *",
   "language": "python",
   "name": "conda-base-py"
  },
  "language_info": {
   "codemirror_mode": {
    "name": "ipython",
    "version": 3
   },
   "file_extension": ".py",
   "mimetype": "text/x-python",
   "name": "python",
   "nbconvert_exporter": "python",
   "pygments_lexer": "ipython3",
   "version": "3.12.7"
  }
 },
 "nbformat": 4,
 "nbformat_minor": 5
}

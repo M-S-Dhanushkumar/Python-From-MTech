{
 "cells": [
  {
   "cell_type": "markdown",
   "id": "c8b66ebb-f485-4d75-94b7-343ab18672fe",
   "metadata": {},
   "source": [
    "### Output Statements"
   ]
  },
  {
   "cell_type": "code",
   "execution_count": 21,
   "id": "085693c5-a44d-4305-89b3-330ad01f506a",
   "metadata": {},
   "outputs": [
    {
     "name": "stdout",
     "output_type": "stream",
     "text": [
      "Hello Friends\n"
     ]
    }
   ],
   "source": [
    "print(\"Hello Friends\")"
   ]
  },
  {
   "cell_type": "code",
   "execution_count": 23,
   "id": "4e033d5f-ed29-4fa0-88bf-76a9e6134a86",
   "metadata": {},
   "outputs": [
    {
     "name": "stdout",
     "output_type": "stream",
     "text": [
      "welcome\n",
      "to python foundation\n"
     ]
    }
   ],
   "source": [
    "print('welcome')\n",
    "print('to python foundation')"
   ]
  },
  {
   "cell_type": "code",
   "execution_count": 15,
   "id": "884b2aa1-55de-49b9-b641-06068fd8999e",
   "metadata": {},
   "outputs": [
    {
     "name": "stdout",
     "output_type": "stream",
     "text": [
      "Name: Vijay\n",
      "Age: 28\n",
      "<class 'int'>\n"
     ]
    }
   ],
   "source": [
    "Name = 'Vijay'\n",
    "Age = 28\n",
    "print('Name:', Name)\n",
    "print('Age:', Age)\n",
    "print(type(Age))"
   ]
  },
  {
   "cell_type": "code",
   "execution_count": 19,
   "id": "1a4327c5-6339-4b42-a2dd-3b718c172ba6",
   "metadata": {},
   "outputs": [
    {
     "name": "stdout",
     "output_type": "stream",
     "text": [
      "Vijay is 28\n"
     ]
    }
   ],
   "source": [
    "Name = 'Vijay'\n",
    "Age = 28\n",
    "print(f\"{Name} is {Age}\")"
   ]
  },
  {
   "cell_type": "code",
   "execution_count": 27,
   "id": "b4da217c-681a-4528-922c-345e1dfe2743",
   "metadata": {},
   "outputs": [
    {
     "name": "stdout",
     "output_type": "stream",
     "text": [
      "vijay-katta*"
     ]
    }
   ],
   "source": [
    "print(\"vijay\", \"katta\", sep=\"-\", end='*')"
   ]
  },
  {
   "cell_type": "code",
   "execution_count": 36,
   "id": "31cf443f-308a-4850-bd88-c9ce3c6b090b",
   "metadata": {},
   "outputs": [
    {
     "name": "stdout",
     "output_type": "stream",
     "text": [
      "vijay works \n",
      "at MVM\n",
      "as a professor\n"
     ]
    }
   ],
   "source": [
    "print(\"\"\"vijay works \n",
    "at MVM\n",
    "as a professor\"\"\")"
   ]
  },
  {
   "cell_type": "code",
   "execution_count": null,
   "id": "0a3ae233-6f5e-4790-9e91-50838b5e5575",
   "metadata": {},
   "outputs": [],
   "source": [
    "# Single comment\n",
    "''' multi\n",
    "line\n",
    "    comments'''-doc string"
   ]
  }
 ],
 "metadata": {
  "kernelspec": {
   "display_name": "Python [conda env:base] *",
   "language": "python",
   "name": "conda-base-py"
  },
  "language_info": {
   "codemirror_mode": {
    "name": "ipython",
    "version": 3
   },
   "file_extension": ".py",
   "mimetype": "text/x-python",
   "name": "python",
   "nbconvert_exporter": "python",
   "pygments_lexer": "ipython3",
   "version": "3.12.7"
  }
 },
 "nbformat": 4,
 "nbformat_minor": 5
}
